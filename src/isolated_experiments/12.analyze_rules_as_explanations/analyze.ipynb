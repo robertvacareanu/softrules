{
 "cells": [
  {
   "cell_type": "code",
   "execution_count": 14,
   "metadata": {},
   "outputs": [],
   "source": [
    "import json\n",
    "import random"
   ]
  },
  {
   "cell_type": "code",
   "execution_count": 5,
   "metadata": {},
   "outputs": [],
   "source": [
    "with open('../../../save_predictions_test.jsonl') as fin:\n",
    "    data = json.load(fin)"
   ]
  },
  {
   "cell_type": "code",
   "execution_count": 10,
   "metadata": {},
   "outputs": [
    {
     "data": {
      "text/plain": [
       "dict_keys(['pred_scores', 'relations', 'gold', 'args', 'rules_text', 'sentences_text'])"
      ]
     },
     "execution_count": 10,
     "metadata": {},
     "output_type": "execute_result"
    }
   ],
   "source": [
    "data.keys()"
   ]
  },
  {
   "cell_type": "code",
   "execution_count": 11,
   "metadata": {},
   "outputs": [],
   "source": [
    "list_data = [{'pred_scores': data['pred_scores'][i], 'relations': data['relations'][i], 'gold': data['gold'][i], 'rules_text': data['rules_text'][i], 'sentences_text': data['sentences_text'][i]} for i in range(len(data['pred_scores']))]"
   ]
  },
  {
   "cell_type": "code",
   "execution_count": 15,
   "metadata": {},
   "outputs": [
    {
     "data": {
      "text/plain": [
       "{'pred_scores': [1.0],\n",
       " 'relations': ['no_relation'],\n",
       " 'gold': 'no_relation',\n",
       " 'rules_text': [],\n",
       " 'sentences_text': []}"
      ]
     },
     "execution_count": 15,
     "metadata": {},
     "output_type": "execute_result"
    }
   ],
   "source": [
    "list_data[0]"
   ]
  },
  {
   "cell_type": "code",
   "execution_count": 24,
   "metadata": {},
   "outputs": [],
   "source": [
    "r = random.Random(1)\n",
    "sample = r.sample(list_data, k=10000)\n",
    "\n",
    "sample_norel   = [x for x in sample if x['gold'] == 'no_relation'][:50]\n",
    "sample_realrel = [x for x in sample if x['gold'] != 'no_relation'][:50]"
   ]
  },
  {
   "cell_type": "code",
   "execution_count": 25,
   "metadata": {},
   "outputs": [
    {
     "name": "stdout",
     "output_type": "stream",
     "text": [
      "{'pred_scores': [1.0], 'relations': ['no_relation'], 'gold': 'no_relation', 'rules_text': [], 'sentences_text': []}\n",
      "{'pred_scores': [1.0], 'relations': ['no_relation'], 'gold': 'no_relation', 'rules_text': [], 'sentences_text': []}\n",
      "{'pred_scores': [1.0], 'relations': ['no_relation'], 'gold': 'no_relation', 'rules_text': [], 'sentences_text': []}\n",
      "{'pred_scores': [1.0], 'relations': ['no_relation'], 'gold': 'no_relation', 'rules_text': [], 'sentences_text': []}\n",
      "{'pred_scores': [1.0], 'relations': ['no_relation'], 'gold': 'no_relation', 'rules_text': [], 'sentences_text': []}\n",
      "{'pred_scores': [1.0], 'relations': ['no_relation'], 'gold': 'no_relation', 'rules_text': [], 'sentences_text': []}\n",
      "{'pred_scores': [1.0], 'relations': ['no_relation'], 'gold': 'no_relation', 'rules_text': [], 'sentences_text': []}\n",
      "{'pred_scores': [1.0], 'relations': ['no_relation'], 'gold': 'no_relation', 'rules_text': [], 'sentences_text': []}\n",
      "{'pred_scores': [1.0], 'relations': ['no_relation'], 'gold': 'no_relation', 'rules_text': [], 'sentences_text': []}\n",
      "{'pred_scores': [[0.5769931674003601, 0.49230003356933594]], 'relations': ['org:parents'], 'gold': 'no_relation', 'rules_text': ['[entity=3m co.]+ <nsubj:xsubj buy >dobj [entity=attenti holdings]+', '[entity=3m co.]+ agreed to buy israeli technology company [entity=attenti holdings]+'], 'sentences_text': [\"@ * organization * Basell @, a division of billionaire investor Leonard Blavatnik's @ * organization * Access Industries @, said Tuesday it will acquire rival chemical company Huntsman Corp. in a cash deal worth $ 5.6 billion ( euro4.2 billion ).\", \"@ * organization * Basell @, a division of billionaire investor Leonard Blavatnik's @ * organization * Access Industries @, said Tuesday it will acquire rival chemical company Huntsman Corp. in a cash deal worth $ 5.6 billion ( euro4.2 billion ).\"]}\n",
      "{'pred_scores': [1.0], 'relations': ['no_relation'], 'gold': 'no_relation', 'rules_text': [], 'sentences_text': []}\n",
      "{'pred_scores': [1.0], 'relations': ['no_relation'], 'gold': 'no_relation', 'rules_text': [], 'sentences_text': []}\n",
      "{'pred_scores': [1.0], 'relations': ['no_relation'], 'gold': 'no_relation', 'rules_text': [], 'sentences_text': []}\n",
      "{'pred_scores': [1.0], 'relations': ['no_relation'], 'gold': 'no_relation', 'rules_text': [], 'sentences_text': []}\n",
      "{'pred_scores': [1.0], 'relations': ['no_relation'], 'gold': 'no_relation', 'rules_text': [], 'sentences_text': []}\n",
      "{'pred_scores': [[0.25589483976364136, 0.23470789194107056]], 'relations': ['per:age'], 'gold': 'no_relation', 'rules_text': ['[entity=person]+ >amod [entity=number]+', '[entity=person]+, [entity=number]+'], 'sentences_text': ['When Appel asked Mays to pitch @ * person * his @ product on the Home Shopping Network, he sold @ * number * 6,000 @ units in 11 minutes, at $ 18 a piece.', 'When Appel asked Mays to pitch @ * person * his @ product on the Home Shopping Network, he sold @ * number * 6,000 @ units in 11 minutes, at $ 18 a piece.']}\n",
      "{'pred_scores': [1.0], 'relations': ['no_relation'], 'gold': 'no_relation', 'rules_text': [], 'sentences_text': []}\n",
      "{'pred_scores': [1.0], 'relations': ['no_relation'], 'gold': 'no_relation', 'rules_text': [], 'sentences_text': []}\n",
      "{'pred_scores': [1.0], 'relations': ['no_relation'], 'gold': 'no_relation', 'rules_text': [], 'sentences_text': []}\n",
      "{'pred_scores': [1.0], 'relations': ['no_relation'], 'gold': 'no_relation', 'rules_text': [], 'sentences_text': []}\n",
      "{'pred_scores': [[0.1470349282026291, 0.07762192189693451]], 'relations': ['per:alternate_names'], 'gold': 'no_relation', 'rules_text': ['[entity=harvey]+ <nsubj blogger <ccomp said >nsubj haspiel >appos artist <nsubj worked >nmod_with [entity=pekar]+', \"[entity=harvey]+ was like the original blogger, before there was an internet, '' said dean haspiel, an artist who worked with [entity=pekar]+\"], 'sentences_text': ['A professor emeritus at Yale University, Mandelbrot was born in Poland but as a child moved with @ * person * his @ family to France where @ * person * he @ was educated.', 'A professor emeritus at Yale University, Mandelbrot was born in Poland but as a child moved with @ * person * his @ family to France where @ * person * he @ was educated.']}\n",
      "{'pred_scores': [[0.17722463607788086, 0.0631139725446701]], 'relations': ['org:parents'], 'gold': 'no_relation', 'rules_text': ['[entity=burlington northern santa fe corp.]+ <nmod_of takeover >nmod_by [entity=berkshire hathaway inc.]+', \"[entity=burlington northern santa fe corp.]+ by warren buffett's [entity=berkshire hathaway inc.]+\"], 'sentences_text': ['The @ * organization * Thomas More Law Center @ stands against the @ * organization * ACLU @, and so do a few other groups.', 'The @ * organization * Thomas More Law Center @ stands against the @ * organization * ACLU @, and so do a few other groups.']}\n",
      "{'pred_scores': [1.0], 'relations': ['no_relation'], 'gold': 'no_relation', 'rules_text': [], 'sentences_text': []}\n",
      "{'pred_scores': [[0.14319270849227905, 0.06907136738300323]], 'relations': ['org:founded'], 'gold': 'no_relation', 'rules_text': ['[entity=organization]+ <appos organization <nsubj organization >acl established >nmod_in [entity=date]+', '[entity=organization]+ ) is an intergovernmental organization established in [entity=date]+'], 'sentences_text': [\"The @ * organization * Thomas More Law Center @ filed five motions in advance of @ * date * Wednesday @'s pretrial hearing for Lt. Col. Jeffrey R. Chessani at Camp Pendleton.\", \"The @ * organization * Thomas More Law Center @ filed five motions in advance of @ * date * Wednesday @'s pretrial hearing for Lt. Col. Jeffrey R. Chessani at Camp Pendleton.\"]}\n",
      "{'pred_scores': [1.0], 'relations': ['no_relation'], 'gold': 'no_relation', 'rules_text': [], 'sentences_text': []}\n",
      "{'pred_scores': [1.0], 'relations': ['no_relation'], 'gold': 'no_relation', 'rules_text': [], 'sentences_text': []}\n",
      "{'pred_scores': [1.0], 'relations': ['no_relation'], 'gold': 'no_relation', 'rules_text': [], 'sentences_text': []}\n",
      "{'pred_scores': [1.0], 'relations': ['no_relation'], 'gold': 'no_relation', 'rules_text': [], 'sentences_text': []}\n",
      "{'pred_scores': [1.0], 'relations': ['no_relation'], 'gold': 'no_relation', 'rules_text': [], 'sentences_text': []}\n",
      "{'pred_scores': [1.0], 'relations': ['no_relation'], 'gold': 'no_relation', 'rules_text': [], 'sentences_text': []}\n",
      "{'pred_scores': [1.0], 'relations': ['no_relation'], 'gold': 'no_relation', 'rules_text': [], 'sentences_text': []}\n",
      "{'pred_scores': [1.0], 'relations': ['no_relation'], 'gold': 'no_relation', 'rules_text': [], 'sentences_text': []}\n",
      "{'pred_scores': [1.0], 'relations': ['no_relation'], 'gold': 'no_relation', 'rules_text': [], 'sentences_text': []}\n",
      "{'pred_scores': [1.0], 'relations': ['no_relation'], 'gold': 'no_relation', 'rules_text': [], 'sentences_text': []}\n",
      "{'pred_scores': [1.0], 'relations': ['no_relation'], 'gold': 'no_relation', 'rules_text': [], 'sentences_text': []}\n",
      "{'pred_scores': [1.0], 'relations': ['no_relation'], 'gold': 'no_relation', 'rules_text': [], 'sentences_text': []}\n",
      "{'pred_scores': [1.0], 'relations': ['no_relation'], 'gold': 'no_relation', 'rules_text': [], 'sentences_text': []}\n",
      "{'pred_scores': [1.0], 'relations': ['no_relation'], 'gold': 'no_relation', 'rules_text': [], 'sentences_text': []}\n",
      "{'pred_scores': [1.0], 'relations': ['no_relation'], 'gold': 'no_relation', 'rules_text': [], 'sentences_text': []}\n",
      "{'pred_scores': [1.0], 'relations': ['no_relation'], 'gold': 'no_relation', 'rules_text': [], 'sentences_text': []}\n",
      "{'pred_scores': [1.0], 'relations': ['no_relation'], 'gold': 'no_relation', 'rules_text': [], 'sentences_text': []}\n",
      "{'pred_scores': [1.0], 'relations': ['no_relation'], 'gold': 'no_relation', 'rules_text': [], 'sentences_text': []}\n",
      "{'pred_scores': [1.0], 'relations': ['no_relation'], 'gold': 'no_relation', 'rules_text': [], 'sentences_text': []}\n",
      "{'pred_scores': [1.0], 'relations': ['no_relation'], 'gold': 'no_relation', 'rules_text': [], 'sentences_text': []}\n",
      "{'pred_scores': [1.0], 'relations': ['no_relation'], 'gold': 'no_relation', 'rules_text': [], 'sentences_text': []}\n",
      "{'pred_scores': [[0.25844401121139526, 0.01719995029270649]], 'relations': ['per:alternate_names'], 'gold': 'no_relation', 'rules_text': ['[entity=gadahn]+ <nmod:poss messages <dobj containing <acl videos <nsubj identified >nmod_as [entity=azzam al-amreeki]+', \"[entity=gadahn]+'s messages always identified him as `` azzam the american '' or [entity=azzam al-amreeki]+\"], 'sentences_text': ['@ * person * Kissel @ was sentenced to life in 2005 after being convicted of drugging @ * person * Robert Kissel @, a senior investment banker, with a sedatives-laced strawberry milkshake before bludgeoning him to death in 2003.', '@ * person * Kissel @ was sentenced to life in 2005 after being convicted of drugging @ * person * Robert Kissel @, a senior investment banker, with a sedatives-laced strawberry milkshake before bludgeoning him to death in 2003.']}\n",
      "{'pred_scores': [1.0], 'relations': ['no_relation'], 'gold': 'no_relation', 'rules_text': [], 'sentences_text': []}\n",
      "{'pred_scores': [[0.159023255109787, 0.10384517908096313]], 'relations': ['org:country_of_headquarters'], 'gold': 'no_relation', 'rules_text': ['[entity=organization]+ <nsubj oversaw >dobj opening >nmod_of industry >nmod:poss [entity=country]+', '[entity=organization]+, which oversaw the opening of [entity=country]+'], 'sentences_text': ['In terms of nuclear weapon arsenals, @ * organization * SIPRI @ estimated that some 8,100 nuclear warheads are operational in the U.S., @ * country * Russia @, China, Britain, France, India, Pakistan and Israel.', 'In terms of nuclear weapon arsenals, @ * organization * SIPRI @ estimated that some 8,100 nuclear warheads are operational in the U.S., @ * country * Russia @, China, Britain, France, India, Pakistan and Israel.']}\n",
      "{'pred_scores': [[0.45508337020874023, 0.3621445596218109]], 'relations': ['per:alternate_names'], 'gold': 'no_relation', 'rules_text': ['[entity=penner]+ <nsubj return >nmod_as [entity=christine daniels]+', '[entity=penner]+ did indeed return as [entity=christine daniels]+'], 'sentences_text': [\"She made a courageous comeback from @ * person * her @ illness with `` The Subject Was Roses '' ( 1968 ) which earned @ * person * her @ an Oscar nomination.\", \"She made a courageous comeback from @ * person * her @ illness with `` The Subject Was Roses '' ( 1968 ) which earned @ * person * her @ an Oscar nomination.\"]}\n",
      "{'pred_scores': [[0.1907738447189331, 0.12197005748748779]], 'relations': ['per:alternate_names'], 'gold': 'no_relation', 'rules_text': ['[entity=gadahn]+ >acl known >nmod_as [entity=azzam al-amriki]+', '[entity=gadahn]+, also known as [entity=azzam al-amriki]+'], 'sentences_text': ['Gwathmey formed @ * person * his @ partnership with @ * person * Siegel @ in 1968.', 'Gwathmey formed @ * person * his @ partnership with @ * person * Siegel @ in 1968.']}\n"
     ]
    }
   ],
   "source": [
    "for x in sample_norel:\n",
    "    print(x)"
   ]
  },
  {
   "cell_type": "code",
   "execution_count": 26,
   "metadata": {},
   "outputs": [
    {
     "name": "stdout",
     "output_type": "stream",
     "text": [
      "{'pred_scores': [[0.7828242182731628, 0.7276443839073181]], 'relations': ['per:stateorprovince_of_death'], 'gold': 'per:stateorprovince_of_death', 'rules_text': ['[entity=person]+ <appos father <nsubj died >nmod_in [entity=state_or_province]+', '[entity=person]+, who died of cancer in [entity=state_or_province]+'], 'sentences_text': [\"NEW YORK 2009-08-26 17:35:30 UTC Jessica Weiner says @ * person * Greenwich @ died of a heart attack at St Luke's Roosevelt Hospital in @ * state_or_province * New York @.\", \"NEW YORK 2009-08-26 17:35:30 UTC Jessica Weiner says @ * person * Greenwich @ died of a heart attack at St Luke's Roosevelt Hospital in @ * state_or_province * New York @.\"]}\n",
      "{'pred_scores': [[0.4289899468421936, 0.23746460676193237]], 'relations': ['per:stateorprovince_of_death'], 'gold': 'per:stateorprovince_of_death', 'rules_text': ['[entity=person]+ <acl:relcl am <nsubjpass found >nmod_in [entity=state_or_province]+', '[entity=person]+, was found dead last week in [entity=state_or_province]+'], 'sentences_text': ['Ali Akbar Khan, the foremost virtuoso of the lutelike sarod, whose dazzling technique and gift for melodic invention, often on display in concert with @ * person * his @ brother-in-law Ravi Shankar, helped popularize North Indian classical music in the West, died Thursday at his home in San Anselmo, @ * state_or_province * Calif. @.', 'Ali Akbar Khan, the foremost virtuoso of the lutelike sarod, whose dazzling technique and gift for melodic invention, often on display in concert with @ * person * his @ brother-in-law Ravi Shankar, helped popularize North Indian classical music in the West, died Thursday at his home in San Anselmo, @ * state_or_province * Calif. @.']}\n",
      "{'pred_scores': [[0.861639678478241, 0.8601757287979126]], 'relations': ['per:age'], 'gold': 'per:age', 'rules_text': ['[entity=person]+ >amod [entity=number]+', '[entity=person]+, [entity=number]+'], 'sentences_text': ['@ * person * Wayman Tisdale @, @ * number * 44 @.', '@ * person * Wayman Tisdale @, @ * number * 44 @.']}\n",
      "{'pred_scores': [[0.6432560682296753, 0.583147406578064]], 'relations': ['org:founded'], 'gold': 'org:founded', 'rules_text': ['[entity=organization]+ <nsubjpass established >nmod_in [entity=date]+', '[entity=organization]+, which is based in lyon, france, was established in [entity=date]+'], 'sentences_text': ['Rajaratnam has been described as a savvy manager of billions of dollars in technology and health care hedge funds at @ * organization * Galleon @, which he started in @ * date * 1996 @.', 'Rajaratnam has been described as a savvy manager of billions of dollars in technology and health care hedge funds at @ * organization * Galleon @, which he started in @ * date * 1996 @.']}\n",
      "{'pred_scores': [1.0], 'relations': ['no_relation'], 'gold': 'per:alternate_names', 'rules_text': [], 'sentences_text': []}\n",
      "{'pred_scores': [[0.4613150954246521, 0.37044453620910645]], 'relations': ['per:age'], 'gold': 'per:age', 'rules_text': ['[entity=person]+ <nsubj died >nmod_at [entity=number]+', '[entity=person]+, who died of complications of dementia on thursday at [entity=number]+'], 'sentences_text': ['CHICAGO : Chicago businessman @ * person * Tahawwur Hussain Rana @, @ * number * 49 @, is arraigned on charges he helped plot the deadly 2008 Mumbai attacks and an attack on a Danish newspaper in 2005.', 'CHICAGO : Chicago businessman @ * person * Tahawwur Hussain Rana @, @ * number * 49 @, is arraigned on charges he helped plot the deadly 2008 Mumbai attacks and an attack on a Danish newspaper in 2005.']}\n",
      "{'pred_scores': [1.0], 'relations': ['no_relation'], 'gold': 'org:country_of_headquarters', 'rules_text': [], 'sentences_text': []}\n",
      "{'pred_scores': [1.0], 'relations': ['no_relation'], 'gold': 'per:age', 'rules_text': [], 'sentences_text': []}\n",
      "{'pred_scores': [1.0], 'relations': ['no_relation'], 'gold': 'org:parents', 'rules_text': [], 'sentences_text': []}\n",
      "{'pred_scores': [[0.770200252532959, 0.6907758712768555]], 'relations': ['per:age'], 'gold': 'per:age', 'rules_text': ['[entity=person]+ >amod [entity=number]+', '[entity=person]+, [entity=number]+'], 'sentences_text': ['@ * person * Flint @, @ * number * 55 @, joined the HSBC board in 1995.', '@ * person * Flint @, @ * number * 55 @, joined the HSBC board in 1995.']}\n",
      "{'pred_scores': [1.0], 'relations': ['no_relation'], 'gold': 'org:country_of_headquarters', 'rules_text': [], 'sentences_text': []}\n",
      "{'pred_scores': [[0.7743602991104126, 0.7245665788650513]], 'relations': ['per:age'], 'gold': 'per:age', 'rules_text': ['[entity=person]+ <nsubj dies >nmod_at [entity=number]+', '[entity=person]+ dies at [entity=number]+'], 'sentences_text': [\"Kim Jong Un is the second son of Kim Jong Il's third wife, @ * person * Ko Yong Hi @, who died five years ago of breast cancer at age @ * number * 51 @.\", \"Kim Jong Un is the second son of Kim Jong Il's third wife, @ * person * Ko Yong Hi @, who died five years ago of breast cancer at age @ * number * 51 @.\"]}\n",
      "{'pred_scores': [[0.19951534271240234, 0.08665397763252258]], 'relations': ['org:parents'], 'gold': 'org:parents', 'rules_text': ['[entity=stx finland]+ <nsubj part >nmod_of [entity=stx europe group]+', '[entity=stx finland]+ is part of the international [entity=stx europe group]+'], 'sentences_text': [\"The acquisition of @ * organization * Burlington Northern Santa Fe @, the nation's second-largest railroad, would be the biggest ever for Warren Buffett's @ * organization * Berkshire Hathaway @ investment company.\", \"The acquisition of @ * organization * Burlington Northern Santa Fe @, the nation's second-largest railroad, would be the biggest ever for Warren Buffett's @ * organization * Berkshire Hathaway @ investment company.\"]}\n",
      "{'pred_scores': [[0.05795777961611748, -0.10036908090114594]], 'relations': ['org:parents'], 'gold': 'org:parents', 'rules_text': ['[entity=bnsf]+ <nmod_of ownership <nmod_of century >nmod_by [entity=berkshire hathaway]+', '[entity=bnsf]+ by [entity=berkshire hathaway]+'], 'sentences_text': [\"Founded on Nov 4, 2000 by the order of then-President Putin, @ * organization * Rosoboronexport @ currently exports some 80 percent of @ * organization * Russia @'s weapons and military equipment.\", \"Founded on Nov 4, 2000 by the order of then-President Putin, @ * organization * Rosoboronexport @ currently exports some 80 percent of @ * organization * Russia @'s weapons and military equipment.\"]}\n",
      "{'pred_scores': [1.0], 'relations': ['no_relation'], 'gold': 'org:country_of_headquarters', 'rules_text': [], 'sentences_text': []}\n",
      "{'pred_scores': [1.0], 'relations': ['no_relation'], 'gold': 'org:parents', 'rules_text': [], 'sentences_text': []}\n",
      "{'pred_scores': [[0.4067712128162384, 0.4035278558731079]], 'relations': ['org:country_of_headquarters'], 'gold': 'org:country_of_headquarters', 'rules_text': ['[entity=organization]+ >nmod_in lyon >appos [entity=country]+', '[entity=organization]+ in lyon, [entity=country]+'], 'sentences_text': [\"`` Members of the force are viewed more as predators than protectors, and the @ * organization * Nigeria Police Force @ has become a symbol in @ * country * Nigeria @ of unfettered corruption, mismanagement and abuse, '' the report says.\", \"`` Members of the force are viewed more as predators than protectors, and the @ * organization * Nigeria Police Force @ has become a symbol in @ * country * Nigeria @ of unfettered corruption, mismanagement and abuse, '' the report says.\"]}\n",
      "{'pred_scores': [[0.37259775400161743, 0.3092528283596039]], 'relations': ['org:parents'], 'gold': 'org:parents', 'rules_text': ['[entity=berkshire]+ <nsubj added >nmod_as part >nmod_of acquisition >nmod_of [entity=burlington northern santa fe corp.]+', '[entity=berkshire]+ added about 65,000 stakeholders in february as part of its $ 26.7 billion acquisition of railroad operator [entity=burlington northern santa fe corp.]+'], 'sentences_text': ['German drug and chemical maker @ * organization * Merck KGaA @ says third-quarter earnings rose 46 percent, as it reported revenues from new acquisition @ * organization * Millipore Corp @ for the first time and saw high demand for its liquid crystals business.', 'German drug and chemical maker @ * organization * Merck KGaA @ says third-quarter earnings rose 46 percent, as it reported revenues from new acquisition @ * organization * Millipore Corp @ for the first time and saw high demand for its liquid crystals business.']}\n",
      "{'pred_scores': [[0.5585201978683472, 0.4056170880794525]], 'relations': ['per:age'], 'gold': 'per:age', 'rules_text': ['[entity=person]+ <nsubj dies >nmod_at [entity=number]+', '[entity=person]+, hall of fame racehorse trainer, dies at [entity=number]+'], 'sentences_text': ['Sheik @ * person * Mohammed Sayed Tantawi @ was @ * number * 81 @ years old.', 'Sheik @ * person * Mohammed Sayed Tantawi @ was @ * number * 81 @ years old.']}\n",
      "{'pred_scores': [1.0], 'relations': ['no_relation'], 'gold': 'org:country_of_headquarters', 'rules_text': [], 'sentences_text': []}\n",
      "{'pred_scores': [1.0], 'relations': ['no_relation'], 'gold': 'org:parents', 'rules_text': [], 'sentences_text': []}\n",
      "{'pred_scores': [1.0], 'relations': ['no_relation'], 'gold': 'org:country_of_headquarters', 'rules_text': [], 'sentences_text': []}\n",
      "{'pred_scores': [1.0], 'relations': ['no_relation'], 'gold': 'per:alternate_names', 'rules_text': [], 'sentences_text': []}\n",
      "{'pred_scores': [[0.7251338958740234, 0.6388111114501953]], 'relations': ['per:age'], 'gold': 'per:age', 'rules_text': ['[entity=person]+ >amod [entity=number]+', '[entity=person]+, [entity=number]+'], 'sentences_text': ['@ * person * David Gutierrez @, @ * number * 43 @, is accused of violating military law by having unprotected sex with multiple people, including some he allegedly met at sex parties in the Wichita area.', '@ * person * David Gutierrez @, @ * number * 43 @, is accused of violating military law by having unprotected sex with multiple people, including some he allegedly met at sex parties in the Wichita area.']}\n",
      "{'pred_scores': [[0.531999945640564, 0.5084154009819031]], 'relations': ['per:age'], 'gold': 'per:age', 'rules_text': ['[entity=person]+ <nsubj [entity=number]+', '[entity=person]+, who was [entity=number]+'], 'sentences_text': [\"CBS News pioneer @ * person * Don Hewitt @ dies at @ * number * 86 @ It's that easy. ''\", \"CBS News pioneer @ * person * Don Hewitt @ dies at @ * number * 86 @ It's that easy. ''\"]}\n",
      "{'pred_scores': [[0.688502311706543, 0.621370792388916]], 'relations': ['per:age'], 'gold': 'per:age', 'rules_text': ['[entity=person]+ >amod [entity=number]+', '[entity=person]+, [entity=number]+'], 'sentences_text': [\"@ * person * McGregor @, who was @ * number * 48 @, had been the subject of a murder investigation until a state medical examiner's report was received that said the Major League Baseball executive did not meet with foul play.\", \"@ * person * McGregor @, who was @ * number * 48 @, had been the subject of a murder investigation until a state medical examiner's report was received that said the Major League Baseball executive did not meet with foul play.\"]}\n",
      "{'pred_scores': [1.0], 'relations': ['no_relation'], 'gold': 'per:alternate_names', 'rules_text': [], 'sentences_text': []}\n",
      "{'pred_scores': [1.0], 'relations': ['no_relation'], 'gold': 'org:parents', 'rules_text': [], 'sentences_text': []}\n",
      "{'pred_scores': [[0.033546581864356995, -0.11759305000305176]], 'relations': ['per:alternate_names'], 'gold': 'per:alternate_names', 'rules_text': ['[entity=koirala]+ >conj_and [entity=gp]+', '[entity=koirala]+ and of the nc president [entity=gp]+'], 'sentences_text': [\"@ * person * Daoud @, whose real name was @ * person * Mohammed Daoud Odeh @, `` was ill and passed away this morning, '' in the Syrian capital where he was living, a Palestinian official told AFP.\", \"@ * person * Daoud @, whose real name was @ * person * Mohammed Daoud Odeh @, `` was ill and passed away this morning, '' in the Syrian capital where he was living, a Palestinian official told AFP.\"]}\n",
      "{'pred_scores': [[0.6821589469909668, 0.6144411563873291]], 'relations': ['per:age'], 'gold': 'per:age', 'rules_text': ['[entity=person]+ >amod [entity=number]+', '[entity=person]+, [entity=number]+'], 'sentences_text': ['Los Angeles Times sports writer @ * person * Mike Penner @, who attracted international attention in 2007 when he announced he was a transsexual, has died at the age of @ * number * 52 @, the newspaper reported on its website Saturday.', 'Los Angeles Times sports writer @ * person * Mike Penner @, who attracted international attention in 2007 when he announced he was a transsexual, has died at the age of @ * number * 52 @, the newspaper reported on its website Saturday.']}\n",
      "{'pred_scores': [1.0], 'relations': ['no_relation'], 'gold': 'org:parents', 'rules_text': [], 'sentences_text': []}\n",
      "{'pred_scores': [[0.5850759744644165, 0.5577786564826965]], 'relations': ['per:age'], 'gold': 'per:age', 'rules_text': ['[entity=person]+ >amod [entity=number]+', '[entity=person]+, [entity=number]+'], 'sentences_text': ['Grand Imam of Al-Azhar @ * person * Tantawi @ dies of heart attack : MENA Tantawi, @ * number * 81 @, was in Riyadh to attend the King Faisal awards ceremony, it said.', 'Grand Imam of Al-Azhar @ * person * Tantawi @ dies of heart attack : MENA Tantawi, @ * number * 81 @, was in Riyadh to attend the King Faisal awards ceremony, it said.']}\n",
      "{'pred_scores': [[0.6310951709747314, 0.5102149248123169]], 'relations': ['per:age'], 'gold': 'per:age', 'rules_text': ['[entity=person]+ >appos spokesman >amod [entity=number]+', '[entity=person]+, the [entity=number]+'], 'sentences_text': ['Musician and Composer @ * person * Ali Akbar Khan @, @ * number * 87 @, Dies The same kind of devotion, the same love for music has to be built up.', 'Musician and Composer @ * person * Ali Akbar Khan @, @ * number * 87 @, Dies The same kind of devotion, the same love for music has to be built up.']}\n",
      "{'pred_scores': [[0.6782091856002808, 0.6009474992752075]], 'relations': ['per:stateorprovince_of_death'], 'gold': 'per:stateorprovince_of_death', 'rules_text': ['[entity=person]+ <nsubj dies >ccomp died >nmod_in edgarton >appos [entity=state_or_province]+', '[entity=person]+ dies at age 84 neal had lung cancer and died at her home in edgarton, [entity=state_or_province]+'], 'sentences_text': ['DJ AM, whose real name is @ * person * Adam Goldstein @, died in August in @ * state_or_province * New York @ of an accidental overdose.', 'DJ AM, whose real name is @ * person * Adam Goldstein @, died in August in @ * state_or_province * New York @ of an accidental overdose.']}\n",
      "{'pred_scores': [1.0], 'relations': ['no_relation'], 'gold': 'per:age', 'rules_text': [], 'sentences_text': []}\n",
      "{'pred_scores': [[0.3699299991130829, 0.1808258444070816]], 'relations': ['org:parents'], 'gold': 'org:parents', 'rules_text': ['[entity=merck kgaa]+ <nsubj says >ccomp rose >advcl_as reported >dobj revenues >nmod_from [entity=millipore corp.]+', '[entity=merck kgaa]+ says third-quarter earnings rose 46 percent, as it reported revenues from new acquisition [entity=millipore corp.]+'], 'sentences_text': [\"The 10-year study, which was conducted by the @ * organization * World Health Organization @'s @ * organization * International Agency for Research on Cancer @, concluded that `` biases and error prevent a causal interpretation '' directly blaming cell phone radiation for increased risk of developing glioma.\", \"The 10-year study, which was conducted by the @ * organization * World Health Organization @'s @ * organization * International Agency for Research on Cancer @, concluded that `` biases and error prevent a causal interpretation '' directly blaming cell phone radiation for increased risk of developing glioma.\"]}\n",
      "{'pred_scores': [[0.7254482507705688, 0.376986563205719]], 'relations': ['per:stateorprovince_of_death'], 'gold': 'per:stateorprovince_of_death', 'rules_text': ['[entity=person]+ <nsubj died >nmod_at hospital >nmod_in monica >appos [entity=state_or_province]+', \"[entity=person]+, a prolific filmmaker who kept alive the tradition of slapstick comedy in his pink panther franchise and nimbly showcased his dramatic range with `` breakfast at tiffany's '' and `` days of wine and roses, '' died wednesday of pneumonia at a hospital in santa monica, [entity=state_or_province]+\"], 'sentences_text': ['@ * person * Goldstein @ died in @ * state_or_province * New York @ on Aug 28.', '@ * person * Goldstein @ died in @ * state_or_province * New York @ on Aug 28.']}\n",
      "{'pred_scores': [[0.7710928320884705, 0.7147336006164551]], 'relations': ['org:founded'], 'gold': 'org:founded', 'rules_text': ['[entity=organization]+ <nsubjpass established >nmod_in [entity=date]+', '[entity=organization]+ was established in [entity=date]+'], 'sentences_text': ['On the Net : http://wwwaccessindustriescom @ * organization * Access Industries @, a privately held company founded in @ * date * 1986 @ by Len Blavatnik, has a diverse portfolio of investments in industry, real estate, media and telecommunications.', 'On the Net : http://wwwaccessindustriescom @ * organization * Access Industries @, a privately held company founded in @ * date * 1986 @ by Len Blavatnik, has a diverse portfolio of investments in industry, real estate, media and telecommunications.']}\n",
      "{'pred_scores': [1.0], 'relations': ['no_relation'], 'gold': 'org:country_of_headquarters', 'rules_text': [], 'sentences_text': []}\n",
      "{'pred_scores': [[0.40500369668006897, 0.28242069482803345]], 'relations': ['org:founded'], 'gold': 'org:founded', 'rules_text': ['[entity=organization]+ <nsubj bequeathed >advcl died >nmod_in [entity=date]+', '[entity=organization]+ bequeathed a quarter of his ( euro ) 2 billion ( $ 243 billion ) estate when he died in [entity=date]+'], 'sentences_text': ['@ * organization * AAAS @ was founded in @ * date * 1848 @.', '@ * organization * AAAS @ was founded in @ * date * 1848 @.']}\n",
      "{'pred_scores': [1.0], 'relations': ['no_relation'], 'gold': 'per:age', 'rules_text': [], 'sentences_text': []}\n",
      "{'pred_scores': [[0.19989711046218872, 0.14872905611991882]], 'relations': ['org:parents'], 'gold': 'org:parents', 'rules_text': ['[entity=international agency for research on cancer]+ <nmod_at experts >appos arm >nmod_of [entity=world health organization]+', '[entity=international agency for research on cancer]+ in lyon, the cancer arm of the [entity=world health organization]+'], 'sentences_text': [\"Uncertainty about a raft of key economic announcements later this week, culminating in Friday's crucial U.S. payrolls report, kept a lid on sentiment, too, though the $ 34 billion takeover of @ * organization * Burlington Northern Santa Fe Corp. @ by Warren Buffett's @ * organization * Berkshire Hathaway Inc. @ helped ease the selling pressure.\", \"Uncertainty about a raft of key economic announcements later this week, culminating in Friday's crucial U.S. payrolls report, kept a lid on sentiment, too, though the $ 34 billion takeover of @ * organization * Burlington Northern Santa Fe Corp. @ by Warren Buffett's @ * organization * Berkshire Hathaway Inc. @ helped ease the selling pressure.\"]}\n",
      "{'pred_scores': [[0.4829021096229553, 0.3844793438911438]], 'relations': ['org:country_of_headquarters'], 'gold': 'org:country_of_headquarters', 'rules_text': ['[entity=organization]+ >appos firm >compound [entity=country]+', '[entity=organization]+, a [entity=country]+'], 'sentences_text': ['As on military cooperation, Russian state arms exporter @ * organization * Rosoboronexport @ signed a document with French Sagem Defense Securite on a joint venture on advanced navigation systems that will be based in @ * country * Russia @.', 'As on military cooperation, Russian state arms exporter @ * organization * Rosoboronexport @ signed a document with French Sagem Defense Securite on a joint venture on advanced navigation systems that will be based in @ * country * Russia @.']}\n",
      "{'pred_scores': [1.0], 'relations': ['no_relation'], 'gold': 'per:age', 'rules_text': [], 'sentences_text': []}\n",
      "{'pred_scores': [1.0], 'relations': ['no_relation'], 'gold': 'org:parents', 'rules_text': [], 'sentences_text': []}\n",
      "{'pred_scores': [1.0], 'relations': ['no_relation'], 'gold': 'org:parents', 'rules_text': [], 'sentences_text': []}\n",
      "{'pred_scores': [1.0], 'relations': ['no_relation'], 'gold': 'org:country_of_headquarters', 'rules_text': [], 'sentences_text': []}\n",
      "{'pred_scores': [1.0], 'relations': ['no_relation'], 'gold': 'per:age', 'rules_text': [], 'sentences_text': []}\n",
      "{'pred_scores': [[0.7055785655975342, 0.5877119302749634]], 'relations': ['org:country_of_headquarters'], 'gold': 'org:country_of_headquarters', 'rules_text': ['[entity=country]+ <compound [entity=organization]+', '[entity=country]+ biotechnology firm [entity=organization]+'], 'sentences_text': ['Total revenues increased 25 percent to 2.4 billion euros ( 3.35 billion dollars ), boosted by the contribution of newly-acquired @ * country * U.S. @ laboratory equipment specialist @ * organization * Millipore Corp @ this year.', 'Total revenues increased 25 percent to 2.4 billion euros ( 3.35 billion dollars ), boosted by the contribution of newly-acquired @ * country * U.S. @ laboratory equipment specialist @ * organization * Millipore Corp @ this year.']}\n",
      "{'pred_scores': [[0.6957453489303589, 0.6794331073760986]], 'relations': ['per:age'], 'gold': 'per:age', 'rules_text': ['[entity=person]+ >amod [entity=number]+', '[entity=person]+, [entity=number]+'], 'sentences_text': ['New York, July 27, 2009 ( AFP ) @ * person * Merce Cunningham @, the legendary New York-based choreographer who revolutionized modern dance, has died, aged @ * number * 90 @, his foundation said Monday.', 'New York, July 27, 2009 ( AFP ) @ * person * Merce Cunningham @, the legendary New York-based choreographer who revolutionized modern dance, has died, aged @ * number * 90 @, his foundation said Monday.']}\n"
     ]
    }
   ],
   "source": [
    "for x in sample_realrel:\n",
    "    print(x)"
   ]
  }
 ],
 "metadata": {
  "kernelspec": {
   "display_name": "llm4r_v2",
   "language": "python",
   "name": "python3"
  },
  "language_info": {
   "codemirror_mode": {
    "name": "ipython",
    "version": 3
   },
   "file_extension": ".py",
   "mimetype": "text/x-python",
   "name": "python",
   "nbconvert_exporter": "python",
   "pygments_lexer": "ipython3",
   "version": "3.12.0"
  }
 },
 "nbformat": 4,
 "nbformat_minor": 2
}
