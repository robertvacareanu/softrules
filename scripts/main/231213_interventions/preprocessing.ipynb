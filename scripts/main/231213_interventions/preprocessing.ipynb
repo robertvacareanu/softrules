{
 "cells": [
  {
   "cell_type": "markdown",
   "metadata": {},
   "source": [
    "### Read the rules"
   ]
  },
  {
   "cell_type": "code",
   "execution_count": 2,
   "metadata": {},
   "outputs": [],
   "source": [
    "import json\n",
    "\n",
    "with open('/storage/rvacareanu/data/softrules/rules/fsre_dataset/TACRED/enhanced_syntax.jsonl') as fin:\n",
    "    data = []\n",
    "    for line in fin:\n",
    "        data.append(json.loads(line))\n"
   ]
  },
  {
   "cell_type": "markdown",
   "metadata": {},
   "source": [
    "### Read the ids of the rules used for matching (i.e. only support sentences)"
   ]
  },
  {
   "cell_type": "code",
   "execution_count": 3,
   "metadata": {},
   "outputs": [],
   "source": [
    "ids = set()\n",
    "for k in [1, 5]:\n",
    "    for seed in [0, 1, 2, 3, 4]:\n",
    "        with open(f'/storage/rvacareanu/data/softrules/fsre_dataset/TACRED/dev_episodes/5_way_{k}_shots_10K_episodes_3q_seed_16029{seed}.json') as fin:\n",
    "            episodes = json.load(fin)[0]\n",
    "            for ep in episodes:\n",
    "                for ss_for_relation in ep['meta_train']:\n",
    "                    for ss in ss_for_relation:\n",
    "                        if ss['relation'] == 'org:parents':\n",
    "                            ids.add(ss['id'])\n"
   ]
  },
  {
   "cell_type": "code",
   "execution_count": 4,
   "metadata": {},
   "outputs": [
    {
     "data": {
      "text/plain": [
       "96"
      ]
     },
     "execution_count": 4,
     "metadata": {},
     "output_type": "execute_result"
    }
   ],
   "source": [
    "len(ids)"
   ]
  },
  {
   "cell_type": "code",
   "execution_count": 5,
   "metadata": {},
   "outputs": [],
   "source": [
    "data_for_relation = [{**x, 'skip': True} for x in data if x['id'] in ids]\n",
    "data_rest         = [{**x, 'skip': False} for x in data if x['id'] not in ids]"
   ]
  },
  {
   "cell_type": "code",
   "execution_count": 6,
   "metadata": {},
   "outputs": [
    {
     "name": "stdout",
     "output_type": "stream",
     "text": [
      "96\n",
      "118265\n"
     ]
    }
   ],
   "source": [
    "print(len(data_for_relation))\n",
    "print(len(data_rest))"
   ]
  },
  {
   "cell_type": "code",
   "execution_count": 7,
   "metadata": {},
   "outputs": [
    {
     "name": "stdout",
     "output_type": "stream",
     "text": [
      "[(('e7798f70605ecb7a381c', '054118511d1d553b9ffca2e3717f8fad'), 1), (('e7798f7060a537709eb2', '0a81f8d4d29fe276f2a6f824c8a24389'), 1), (('e7798f7060417ee4589b', '0bc421dedbb2e614a611d0959bb6100b'), 1)]\n",
      "[(('e7798f70605ecb7a381c', '054118511d1d553b9ffca2e3717f8fad'), 1), (('e7798f7060a537709eb2', '0a81f8d4d29fe276f2a6f824c8a24389'), 1), (('e7798f7060417ee4589b', '0bc421dedbb2e614a611d0959bb6100b'), 1)]\n"
     ]
    }
   ],
   "source": [
    "# Sanity check to see that there are no duplicates here\n",
    "# (on TACRED; other datasets might not have a 100% unique `id` field)\n",
    "from collections import Counter\n",
    "print(sorted(Counter([(x['id'], x['line_to_hash']) for x in data_for_relation]).items(), key=lambda x: -x[1])[:3])\n",
    "print(sorted(Counter([(x['id'], x['line_to_hash']) for x in data_for_relation]).items(), key=lambda x: -x[1])[:3])"
   ]
  },
  {
   "cell_type": "code",
   "execution_count": 8,
   "metadata": {},
   "outputs": [],
   "source": [
    "id_to_line_to_hash = {x['id']: x['line_to_hash'] for x in data_for_relation}\n",
    "line_to_hash_to_id = {x['line_to_hash']: x['id'] for x in data_for_relation}\n",
    "\n",
    "id_to_rule           = {x['id']: x for x in data_for_relation}\n",
    "line_to_hash_to_rule = {x['line_to_hash']: x for x in data_for_relation}"
   ]
  },
  {
   "cell_type": "markdown",
   "metadata": {},
   "source": [
    "### Intervention Data"
   ]
  },
  {
   "cell_type": "markdown",
   "metadata": {},
   "source": [
    "##### Intervention 1"
   ]
  },
  {
   "cell_type": "code",
   "execution_count": 9,
   "metadata": {},
   "outputs": [],
   "source": [
    "# intervention_data = []\n",
    "# with open('../../../intervention_data/annotator1/org_parents_prepared.jsonl') as fin:\n",
    "#     for line in fin:\n",
    "#         loaded_line = json.loads(line)\n",
    "#         if loaded_line['id'] != 'GLOBAL':\n",
    "#             line_to_hash = id_to_line_to_hash[loaded_line['id']]\n",
    "#         else:\n",
    "#             line_to_hash = \"GLOBAL\"\n",
    "#         intervention_data.append({'line_to_hash': line_to_hash, **loaded_line, 'skip': False})\n",
    "    \n",
    "# id_to_intervention_data = {x['id']: x for x in intervention_data}\n",
    "\n",
    "# with open('../../../intervention_data/annotator1/enhanced_syntax.jsonl', 'w+') as fout:\n",
    "#     for line in data_rest + data_for_relation + intervention_data:\n",
    "#         _=fout.write(json.dumps(line))\n",
    "#         _=fout.write('\\n')\n",
    "    \n"
   ]
  },
  {
   "cell_type": "markdown",
   "metadata": {},
   "source": [
    "##### Intervention 2"
   ]
  },
  {
   "cell_type": "code",
   "execution_count": 10,
   "metadata": {},
   "outputs": [],
   "source": [
    "intervention_data = []\n",
    "with open('../../../intervention_data/annotator2/org_parents_prepared.jsonl') as fin:\n",
    "    for line in fin:\n",
    "        loaded_line = json.loads(line)\n",
    "        if loaded_line['id'] != 'GLOBAL':\n",
    "            line_to_hash = id_to_line_to_hash[loaded_line['id']]\n",
    "        else:\n",
    "            line_to_hash = \"GLOBAL\"\n",
    "        intervention_data.append({'line_to_hash': line_to_hash, **loaded_line, 'skip': False})\n",
    "    \n",
    "id_to_intervention_data = {x['id']: x for x in intervention_data}\n",
    "\n",
    "with open('../../../intervention_data/annotator2/enhanced_syntax_v3.jsonl', 'w+') as fout:\n",
    "    for line in data_rest + data_for_relation + intervention_data:\n",
    "        _=fout.write(json.dumps(line))\n",
    "        _=fout.write('\\n')\n",
    "    \n",
    "\n"
   ]
  }
 ],
 "metadata": {
  "kernelspec": {
   "display_name": "plots",
   "language": "python",
   "name": "python3"
  },
  "language_info": {
   "codemirror_mode": {
    "name": "ipython",
    "version": 3
   },
   "file_extension": ".py",
   "mimetype": "text/x-python",
   "name": "python",
   "nbconvert_exporter": "python",
   "pygments_lexer": "ipython3",
   "version": "3.11.5"
  }
 },
 "nbformat": 4,
 "nbformat_minor": 2
}
